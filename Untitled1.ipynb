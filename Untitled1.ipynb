{
 "cells": [
  {
   "cell_type": "code",
   "execution_count": 26,
   "id": "b600f7ed",
   "metadata": {
    "scrolled": true
   },
   "outputs": [
    {
     "name": "stdout",
     "output_type": "stream",
     "text": [
      "search_metadata\n",
      "search_parameters\n",
      "search_information\n",
      "inline_images\n",
      "organic_results\n",
      "pagination\n",
      "serpapi_pagination\n"
     ]
    },
    {
     "ename": "NameError",
     "evalue": "name 'first_item' is not defined",
     "output_type": "error",
     "traceback": [
      "\u001b[1;31m---------------------------------------------------------------------------\u001b[0m",
      "\u001b[1;31mNameError\u001b[0m                                 Traceback (most recent call last)",
      "Cell \u001b[1;32mIn[26], line 15\u001b[0m\n\u001b[0;32m     10\u001b[0m     \u001b[38;5;28mprint\u001b[39m(i)\n\u001b[0;32m     13\u001b[0m result\u001b[38;5;241m.\u001b[39mget(\u001b[38;5;124m\"\u001b[39m\u001b[38;5;124morganic_results\u001b[39m\u001b[38;5;124m\"\u001b[39m)\n\u001b[1;32m---> 15\u001b[0m \u001b[38;5;28mprint\u001b[39m(\u001b[43mfirst_item\u001b[49m\u001b[38;5;241m.\u001b[39mget(\u001b[38;5;124m\"\u001b[39m\u001b[38;5;124mlink\u001b[39m\u001b[38;5;124m\"\u001b[39m))\n\u001b[0;32m     16\u001b[0m x \u001b[38;5;241m=\u001b[39m first_item\u001b[38;5;241m.\u001b[39mget(\u001b[38;5;124m\"\u001b[39m\u001b[38;5;124mtitle\u001b[39m\u001b[38;5;124m\"\u001b[39m)\u001b[38;5;241m.\u001b[39msplit(\u001b[38;5;124m'\u001b[39m\u001b[38;5;124m-\u001b[39m\u001b[38;5;124m'\u001b[39m)\n\u001b[0;32m     17\u001b[0m \u001b[38;5;28mprint\u001b[39m(x[\u001b[38;5;241m0\u001b[39m], x[\u001b[38;5;241m1\u001b[39m:])\n",
      "\u001b[1;31mNameError\u001b[0m: name 'first_item' is not defined"
     ]
    }
   ],
   "source": [
    "from serpapi import GoogleSearch\n",
    "search = GoogleSearch({\n",
    "    \"q\": \"site:jo.linkedin.com/in (AI AND Machine Learning AND Transformers) | (AI AND Machine Learning AND Self Superfised learning)\", \n",
    "    \"api_key\": \"1835fadd674bcb5f97ec8bbf2c66cd388599e307ab40ab27f3d49b0f8345e107\",\n",
    "    \"num\": \"30\"\n",
    "  })\n",
    "result = search.get_dict()\n",
    "\n",
    "for i in result:\n",
    "    print(i)\n",
    "    \n",
    "\n",
    "result.get(\"organic_results\")\n",
    "\n",
    "print(first_item.get(\"link\"))\n",
    "x = first_item.get(\"title\").split('-')\n",
    "print(x[0], x[1:])\n",
    "print(first_item.get(\"snippet_highlighted_words\"))\n",
    "print(first_item.get(\"snippet\"))"
   ]
  },
  {
   "cell_type": "code",
   "execution_count": null,
   "id": "bf1ec525",
   "metadata": {},
   "outputs": [],
   "source": []
  },
  {
   "cell_type": "code",
   "execution_count": 27,
   "id": "674d54a3",
   "metadata": {},
   "outputs": [
    {
     "name": "stdout",
     "output_type": "stream",
     "text": [
      "https://jo.linkedin.com/in/razan-abdul-nabi-51595a1b7\n",
      "Razan Abdul_Nabi  [' Data Scientist ', ' Qistas ', ' قسطاس']\n",
      "['deep learning', 'machine learning', 'Artificial intelligence']\n",
      "1.5+ years of experience in IT and comprehensive industry knowledge of deep learning, machine learning, Artificial intelligence, Statistical modeling, ...\n",
      "=============\n",
      "\n",
      "https://jo.linkedin.com/in/osama-fityani\n",
      "Osama Fityani  [' Computer Vision Research Assistant']\n",
      "['Machine Learning', 'learn']\n",
      "Mechatronics Engineer, experienced in Machine Learning, Robotics, and Automation. Spending most of my time doing voluntary work where I learn and teach what ...\n",
      "=============\n",
      "\n",
      "https://jo.linkedin.com/in/mohammad-zahrawi-11a0a2133/de\n",
      "Mohammad Zahrawi  [' Academic Lead & Data Analyst']\n",
      "['Machine Learning', 'AI', 'self', 'supervised learning']\n",
      "Machine Learning Fellow. Fellowship.AI. ‏يناير 2022 - ‏يونيو 2022 6 شهور ... Techniques: MONAI, self-supervised learning,gradcam, augmentation, ...\n",
      "=============\n",
      "\n",
      "https://jo.linkedin.com/in/bashar-talafha\n",
      "Bashar Talafha  [' Graduate Research Assistant']\n",
      "['Artificial Intelligence', 'Machine learning']\n",
      "A developer and researcher at Samsung R&D Institute Jordan in the department of Artificial Intelligence who interested in applying Machine learning and Deep ...\n",
      "=============\n",
      "\n",
      "https://jo.linkedin.com/in/randmuhtaseb\n",
      "Rand Muhtaseb  [' Goethe', 'Institut Jordanien ', ' عمان الأردن']\n",
      "['Machine Learning', 'Artificial']\n",
      "Rand Muhtaseb. Machine Learning | Computer Vision | Software Engineering | Data Science | MSc | TechWomen. MBZUAI (Mohamed bin Zayed University of Artificial ...\n",
      "=============\n",
      "\n",
      "https://jo.linkedin.com/in/ayman-al-bitar-7208baa\n",
      "Ayman Al ['Bitar ', ' Data Scientist ', ' Orange Jordan']\n",
      "['Deep Learning', 'Machine Learning and AI']\n",
      "Data Scientist | MLOPS| Deep Learning | ERP techno-functional Consultant ... Building Recommender Systems with Machine Learning and AI.\n",
      "=============\n",
      "\n",
      "https://jo.linkedin.com/in/ibrahim-shahbaz-5a428aaa\n",
      "Ibrahim Shahbaz  [' Data Scientist ', ' Open Insights']\n",
      "['Ai', 'Machine Learning', 'Supervised Learning']\n",
      "Tom was the first to loose job to Ai… ... *Responsible for delivering content of Python,R, Machine Learning, ... Supervised Learning with scikit-learn.\n",
      "=============\n",
      "\n",
      "https://jo.linkedin.com/in/latif-ullah-khan-711b95124\n",
      "Latif Ullah Khan  [' Beamline Scientist ', ' SESAME']\n",
      "['machine learning', 'self', 'AI']\n",
      "In the past decade, machine learning has given us self-driving cars, practical speech ... رسم بياني Python for Data Science, AI &amp; Development ...\n",
      "=============\n",
      "\n",
      "https://jo.linkedin.com/in/alisafia\n",
      "Ali Safia  [' Data Science and AI Team Leader ', ' Zain']\n",
      "['self', 'supervised learning', 'AI', 'Machine Learning']\n",
      "End-to-end Jordanian dialect speech-to-text self-supervised learning framework. Frontiers in AI and robotics ‏20 ديسمبر، 2022 · An Online Machine Learning ...\n",
      "=============\n",
      "\n",
      "https://jo.linkedin.com/in/mohammad-sheri-ai-cmrp-61020b1a2\n",
      "Mohammad Sheri, AI, CMRP []\n",
      "['AI', 'Self', 'Supervised Learning', 'Machine Learning']\n",
      "معرفة المزيد حول تجربة عمل Mohammad Sheri, AI, CMRP وتعليمه وزملائه ... A Cookbook of Self-Supervised Learning… ... رسم بياني Applied Machine Learning ...\n",
      "=============\n",
      "\n",
      "https://jo.linkedin.com/in/msc-arar-al-tawil-990b5b14a\n",
      "Msc Arar Al Tawil  [' BTEC lecturer']\n",
      "['Artificial Intelligence', 'Machine Learning', 'Supervised learning']\n",
      "Introduction to TensorFlow for Artificial Intelligence, Machine Learning ... Supervised learning algorithms can \"learn\" from labeled dataset and then detect ...\n",
      "=============\n",
      "\n",
      "https://jo.linkedin.com/in/omaraloyoun\n",
      "Omar Aloyoun  [' Startups Adviser ', ' Newchip Accelerator']\n",
      "['AI', 'machine learning']\n",
      "Having 22 years of diverse experience across different industries: online media, web/mobile technologies, IoT, AI/machine learning/bots, Telecoms & ICT, ...\n",
      "=============\n",
      "\n",
      "https://jo.linkedin.com/in/haneen-alakhrass-b78a4b213\n",
      "Haneen Alakhrass  [' Trainer ', ' Tahaluf Al Emarat Technical ...']\n",
      "['Machine learning', 'supervised', 'AI', 'Self']\n",
      "... along with Machine learning approaches including supervised and ... MSc(Eng) - AI trainer at Tahaluf AlEmarat ... رسم بياني Freelance (Self employed) ...\n",
      "=============\n",
      "\n",
      "https://jo.linkedin.com/in/sbadran\n",
      "Saeed Badran  [' Sr. Backend Engineer ', ' Focus Solutions']\n",
      "['Machine Learning', 'Self', 'AI']\n",
      "Interests: Healthcare, Machine Learning, Data Science, APIs, Mobile Applications ... رسم بياني Self-Employed ... AI TensorFlow Developer Specialization.\n",
      "=============\n",
      "\n",
      "https://jo.linkedin.com/in/zaid-arabiyat-27309317b\n",
      "Zaid Arabiyat  [' Director of Operations ', ' Aces Acquisitions']\n",
      "['Machine Learning and AI']\n",
      "Participated in Work & Travel program. Experienced in Data Analysis. Experienced in Machine Learning and AI. Advanced in Excel. | معرفة المزيد حول تجربة عمل ...\n",
      "=============\n",
      "\n",
      "https://jo.linkedin.com/in/wasfi-ibrahim-3b893a1aa\n",
      "Wasfi ibrahim  [' جامعة البلقاء التطبيقية']\n",
      "['machine learning', 'AI']\n",
      "Python for machine learning. SHAI For AI | شاي للذكاء الاصطناعي. تم الإصدار في ‏فبراير 2022. رسم بياني Google Certified digital markiting basics ...\n",
      "=============\n",
      "\n",
      "https://jo.linkedin.com/in/yousef-majadbi\n",
      "Yousef Majadbi  [' SQL Server ', ' Support Engineer ', ' Microsoft']\n",
      "['Deep Learning', 'AI and Machine Learning']\n",
      "Certified in Data Science, Deep Learning, NLP, Implementing Data Warehouses, and currently pursuing a Master Track Certificate in AI and Machine Learning.\n",
      "=============\n",
      "\n",
      "https://jo.linkedin.com/in/mohammedbarakat\n",
      "Mohammed Barakat  [' Senior Business Performance ...']\n",
      "['Supervised', 'Machine Learning']\n",
      "•Supervised and directed foremen and workers in the Assembly Section. ... Predicting the Usefulness of a Yelp Review Using Machine Learning.\n",
      "=============\n",
      "\n",
      "https://jo.linkedin.com/in/lina-hammad-1068a8106\n",
      "Lina Hammad  [' Al Hussein Technical University (HTU)']\n",
      "['self', 'Artificial Intelligence']\n",
      "I am highly self-motivated, enthusiastic, capable of dealing with challenging ... and Informatics - Data Science and Artificial Intelligence Department.\n",
      "=============\n",
      "\n",
      "https://jo.linkedin.com/in/afif-almghawish-b39739ab\n",
      "Afif Almghawish  [' Private Tutor ', ' Self', 'employed']\n",
      "['education']\n",
      "Over the past 24-experienced years in the IT field, I have focused on education, research, data analysis, implementing Systems Development Life Cycle (SDLC) ...\n",
      "=============\n",
      "\n"
     ]
    }
   ],
   "source": [
    "len(result.get(\"organic_results\"))\n",
    "for item in result.get(\"organic_results\"):\n",
    "    print(item.get(\"link\"))\n",
    "    x = item.get(\"title\").split('-')\n",
    "    print(x[0], x[1:])\n",
    "    print(item.get(\"snippet_highlighted_words\"))\n",
    "    print(item.get(\"snippet\"))\n",
    "    print('=============\\n')"
   ]
  },
  {
   "cell_type": "code",
   "execution_count": 12,
   "id": "74edd2b7",
   "metadata": {},
   "outputs": [],
   "source": [
    "is_must = \"AI, Machine Learning\"\n",
    "is_plus1, w1 = \"Transformers\", 6\n",
    "is_plus2, w2 = \"Self Superfised learning\", 4\n",
    "is_plus3, w3 = \"Deep Learning\", 5"
   ]
  },
  {
   "cell_type": "code",
   "execution_count": 11,
   "id": "de16ea78",
   "metadata": {},
   "outputs": [
    {
     "data": {
      "text/plain": [
       "'AI AND Machine Learning AND shahrour'"
      ]
     },
     "execution_count": 11,
     "metadata": {},
     "output_type": "execute_result"
    }
   ],
   "source": [
    "' AND'.join(is_must.split(','))"
   ]
  },
  {
   "cell_type": "code",
   "execution_count": null,
   "id": "3e73e6e9",
   "metadata": {},
   "outputs": [],
   "source": [
    "site:jo.linkedin.com/in (AI AND Machine Learning) AND (Transformers | Self Superfised learning)"
   ]
  },
  {
   "cell_type": "code",
   "execution_count": 45,
   "id": "b10086d0",
   "metadata": {},
   "outputs": [
    {
     "data": {
      "text/plain": [
       "'site:jo.linkedin.com/in (AI AND Machine Learning AND Transformers) AND (AI AND Machine Learning AND  Self Superfised learning) AND (AI AND Machine Learning AND  Deep Learning)'"
      ]
     },
     "execution_count": 45,
     "metadata": {},
     "output_type": "execute_result"
    }
   ],
   "source": [
    "is_must = \"AI, Machine Learning\"\n",
    "is_plus = \"Transformers, Self Superfised learning, Deep Learning\"\n",
    "must = ' AND'.join(is_must.split(','))\n",
    "plist = is_plus.split(',')\n",
    "\"site:jo.linkedin.com/in \"+ ' AND '.join([f'({must} AND {i})' for i in plist])"
   ]
  },
  {
   "cell_type": "code",
   "execution_count": 36,
   "id": "c894f5cf",
   "metadata": {},
   "outputs": [],
   "source": [
    "must = ' AND'.join(is_must.split(','))"
   ]
  },
  {
   "cell_type": "code",
   "execution_count": 32,
   "id": "245a8dc5",
   "metadata": {},
   "outputs": [],
   "source": [
    "plist = is_plus.split(',')"
   ]
  },
  {
   "cell_type": "code",
   "execution_count": 35,
   "id": "f19cd91b",
   "metadata": {},
   "outputs": [
    {
     "data": {
      "text/plain": [
       "3"
      ]
     },
     "execution_count": 35,
     "metadata": {},
     "output_type": "execute_result"
    }
   ],
   "source": [
    "len(plist)"
   ]
  },
  {
   "cell_type": "code",
   "execution_count": 44,
   "id": "914f41a4",
   "metadata": {},
   "outputs": [
    {
     "data": {
      "text/plain": [
       "'site:jo.linkedin.com/in (AI AND Machine Learning AND Transformers) AND (AI AND Machine Learning AND  Self Superfised learning) AND (AI AND Machine Learning AND  Deep Learning)'"
      ]
     },
     "execution_count": 44,
     "metadata": {},
     "output_type": "execute_result"
    }
   ],
   "source": [
    "\"site:jo.linkedin.com/in \"+ ' AND '.join([f'({must} AND {i})' for i in plist])"
   ]
  },
  {
   "cell_type": "code",
   "execution_count": null,
   "id": "0b00360e",
   "metadata": {},
   "outputs": [],
   "source": []
  }
 ],
 "metadata": {
  "kernelspec": {
   "display_name": "Python 3 (ipykernel)",
   "language": "python",
   "name": "python3"
  },
  "language_info": {
   "codemirror_mode": {
    "name": "ipython",
    "version": 3
   },
   "file_extension": ".py",
   "mimetype": "text/x-python",
   "name": "python",
   "nbconvert_exporter": "python",
   "pygments_lexer": "ipython3",
   "version": "3.10.11"
  }
 },
 "nbformat": 4,
 "nbformat_minor": 5
}
